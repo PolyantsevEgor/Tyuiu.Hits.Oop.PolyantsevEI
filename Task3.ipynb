{
 "cells": [
  {
   "cell_type": "markdown",
   "metadata": {},
   "source": [
    "<h1 style=\"color:DodgerBlue\">Индивидальный проект</h1>"
   ]
  },
  {
   "cell_type": "markdown",
   "metadata": {},
   "source": [
    "<h2 style=\"color:DodgerBlue\">Название проекта:</h2>\n",
    "\n",
    "----\n",
    "\n",
    "### Вариант задания №9\n"
   ]
  },
  {
   "cell_type": "markdown",
   "metadata": {},
   "source": [
    "<h2 style=\"color:DodgerBlue\">Описание проекта:</h2>\n",
    "\n",
    "----\n",
    "\n",
    "Создать базовый класс Order в C#, который будет представлять информацию о заказах товаров или услуг. На основе этого класса разработать 2-3 производных класса, демонстрирующих принципы наследования и полиморфизма. В каждом из классов должны быть реализованы новые атрибуты и методы, а также переопределены некоторые методы базового класса для демонстрации полиморфизма.\n",
    "\n",
    "<b>Требования к базовому классу Order:</b>\n",
    "<ul>\n",
    "  <li>Атрибуты: ID заказа (OrderId), Дата создания (CreationDate), Сумма заказа\n",
    "(TotalAmount).</li>\n",
    "  <li>Методы:</li>\n",
    "  <ul>\n",
    "    <li>CalculateTotal(): метод для расчета общей суммы заказа.</li>\n",
    "    <li>AddItem(Item item): метод для добавления элемента в заказ.</li>\n",
    "    <li>RemoveItem(Item item): метод для удаления элемента из заказа.</li>\n",
    "  </ul>\n",
    "</ul>\n",
    "<b>Требования к производным классам:</b>\n",
    "<ol>\n",
    "  <li>ОнлайнЗаказ (OnlineOrder): Должен содержать дополнительные атрибуты, такие как Email клиента (Email). Метод AddItem() должен быть переопределен для добавления информации о способе доставки при добавлении элемента.</li>\n",
    "  <li>ФизическийЗаказ (PhysicalOrder): Должен содержать дополнительные атрибуты, такие как Адрес доставки (DeliveryAddress). Метод RemoveItem() должен быть переопределен для добавления информации о возврате товара при удалении элемента.</li>\n",
    "  <li>СпециализированныйЗаказ (SpecializedOrder) (если требуется третий класс): Должен содержать дополнительные атрибуты, такие как Специальные условия (SpecialConditions). Метод CalculateTotal() должен быть переопределен для учета специальных условий при расчете общей суммы заказа.</li>\n",
    "</ol>"
   ]
  },
  {
   "cell_type": "markdown",
   "metadata": {},
   "source": [
    "<h2 style=\"color:DodgerBlue\">Реализация:</h2>\n",
    "\n",
    "----"
   ]
  },
  {
   "cell_type": "code",
   "execution_count": 2,
   "metadata": {
    "dotnet_interactive": {
     "language": "csharp"
    },
    "polyglot_notebook": {
     "kernelName": "csharp"
    }
   },
   "outputs": [
    {
     "name": "stdout",
     "output_type": "stream",
     "text": [
      "'Пирог' добавлен в онлайн-заказ. Способ доставки: Экспресс\n",
      "'Пицца' добавлен в онлайн-заказ. Способ доставки: Экспресс\n",
      "Стоимость онлайн-заказа: 1200\n",
      "'Пирог' добавлен в физический заказ. Адрес доставки: г. Москва, ул. Ямская 1, кв. 17\n",
      "'Пирог' удален из физического заказа. \n",
      "Стоимость физического заказа: 0\n",
      "'Пирог' добавлен в специальный заказ. Особые условия: Скидка\n",
      "'Пицца' добавлен в специальный заказ. Особые условия: Скидка\n",
      "Стоимость специального заказа: 960\n"
     ]
    }
   ],
   "source": [
    "\n",
    "public abstract class Order {\n",
    "  public int OrderId { get; set; }\n",
    "  public DateTime CreationDate { get; set; }\n",
    "  public double TotalAmount { get; protected set; }\n",
    "  protected List<Item> Items = new List<Item>();\n",
    "\n",
    "  public abstract void AddItem(Item item);\n",
    "  public abstract void RemoveItem(Item item);\n",
    "  public abstract double CalculateTotal();\n",
    "}\n",
    "\n",
    "public class Item\n",
    "{\n",
    "    public string Name { get; set; }\n",
    "    public double Price { get; set; }\n",
    "    public string Delivery { get; set; }\n",
    "    public string Info { get; set; }\n",
    "}\n",
    "\n",
    "public class OnlineOrder : Order\n",
    "{\n",
    "    public string Email { get; set; }\n",
    "\n",
    "    public override void AddItem(Item item)\n",
    "    {\n",
    "        item.Delivery = \"Экспресс\";\n",
    "        Items.Add(item);\n",
    "        TotalAmount += item.Price;\n",
    "        Console.WriteLine($\"'{item.Name}' добавлен в онлайн-заказ. Способ доставки: {item.Delivery}\");\n",
    "    }\n",
    "\n",
    "    public override void RemoveItem(Item item)\n",
    "    {\n",
    "        if (Items.Remove(item))\n",
    "        {\n",
    "            TotalAmount -= item.Price;\n",
    "            Console.WriteLine($\"'{item.Name}' удален из онлайн-заказа.\");\n",
    "        }\n",
    "    }\n",
    "\n",
    "    public override double CalculateTotal()\n",
    "    {\n",
    "         return TotalAmount;\n",
    "    }\n",
    "}\n",
    "\n",
    "public class PhysicalOrder : Order\n",
    "{\n",
    "    public string DeliveryAddress { get; set; }\n",
    "\n",
    "    public override void AddItem(Item item)\n",
    "    {\n",
    "        Items.Add(item);\n",
    "        TotalAmount += item.Price;\n",
    "        Console.WriteLine($\"'{item.Name}' добавлен в физический заказ. Адрес доставки: {DeliveryAddress}\");\n",
    "    }\n",
    "\n",
    "    public override void RemoveItem(Item item)\n",
    "    {\n",
    "        if (Items.Remove(item))\n",
    "        {\n",
    "            TotalAmount -= item.Price;\n",
    "            Console.WriteLine($\"'{item.Name}' удален из физического заказа. {item.Info}\");\n",
    "        }\n",
    "    }\n",
    "\n",
    "    public override double CalculateTotal()\n",
    "    {\n",
    "         return TotalAmount;\n",
    "    }\n",
    "}\n",
    "\n",
    "public class SpecializedOrder : Order\n",
    "{\n",
    "    public string SpecialConditions { get; set; }\n",
    "\n",
    "    public override void AddItem(Item item)\n",
    "    {\n",
    "        Items.Add(item);\n",
    "        TotalAmount += item.Price;\n",
    "        Console.WriteLine($\"'{item.Name}' добавлен в специальный заказ. Особые условия: {SpecialConditions}\");\n",
    "    }\n",
    "\n",
    "    public override void RemoveItem(Item item)\n",
    "    {\n",
    "        if (Items.Remove(item))\n",
    "        {\n",
    "            TotalAmount -= item.Price;\n",
    "            Console.WriteLine($\"'{item.Name}' удален из специального заказа.\");\n",
    "        }\n",
    "    }\n",
    "\n",
    "    public override double CalculateTotal()\n",
    "    {\n",
    "         return TotalAmount *0.8;\n",
    "    }\n",
    "}\n",
    "\n",
    "OnlineOrder onlineOrder = new OnlineOrder\n",
    "{\n",
    "  OrderId = 1,\n",
    "  CreationDate = DateTime.Now,\n",
    "  Email = \"email@mail.ru\"\n",
    "};\n",
    "\n",
    "PhysicalOrder physicalOrder = new PhysicalOrder\n",
    "{\n",
    "  OrderId = 2,\n",
    "  CreationDate = DateTime.Now,\n",
    "  DeliveryAddress = \"г. Москва, ул. Ямская 1, кв. 17\"\n",
    "};\n",
    "\n",
    "SpecializedOrder specializedOrder = new SpecializedOrder\n",
    "{\n",
    "  OrderId = 3,\n",
    "  CreationDate = DateTime.Now,\n",
    "  SpecialConditions = \"Скидка\"\n",
    "};\n",
    "\n",
    "var item1 = new Item { Name = \"Пирог\", Price = 500 };\n",
    "var item2 = new Item { Name = \"Пицца\", Price = 700 };\n",
    "\n",
    "onlineOrder.AddItem(item1);\n",
    "onlineOrder.AddItem(item2);\n",
    "onlineOrder.RemoveItem(item2);\n",
    "Console.WriteLine($\"Стоимость онлайн-заказа: {onlineOrder.CalculateTotal()}\");\n",
    "\n",
    "physicalOrder.AddItem(item1);\n",
    "physicalOrder.RemoveItem(item1);\n",
    "Console.WriteLine($\"Стоимость физического заказа: {physicalOrder.CalculateTotal()}\");\n",
    "\n",
    "specializedOrder.AddItem(item1);\n",
    "specializedOrder.AddItem(item2);\n",
    "Console.WriteLine($\"Стоимость специального заказа: {specializedOrder.CalculateTotal()}\");\n"
   ]
  }
 ],
 "metadata": {
  "kernelspec": {
   "display_name": ".NET (C#)",
   "language": "C#",
   "name": ".net-csharp"
  },
  "polyglot_notebook": {
   "kernelInfo": {
    "defaultKernelName": "csharp",
    "items": [
     {
      "aliases": [],
      "languageName": "csharp",
      "name": "csharp"
     }
    ]
   }
  }
 },
 "nbformat": 4,
 "nbformat_minor": 2
}
